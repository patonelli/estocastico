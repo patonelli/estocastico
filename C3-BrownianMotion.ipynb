{
 "cells": [
  {
   "cell_type": "markdown",
   "metadata": {
    "slideshow": {
     "slide_type": "slide"
    }
   },
   "source": [
    "# Movimento Browniano\n",
    "\n",
    "## Einstein 1905.\n",
    "O objetivo de Einstein foi estudar o movimento de uma partícula num fluído em repouso.\n",
    "[Veja os trabalhos de Einstein sobre o movimento Browniano](http://einsteinpapers.press.princeton.edu/vol2-doc/242).\n",
    "\n",
    "Vamos apenas descrever, de maneira eurística, quais foram os passos matemáticos neste primeiro trabalho de Einstein sobre MB, e como ele chegou à fórmula da distribuição  do movimento Browniano.\n",
    "\n",
    "Considera um \"tubo super-fino e infinito com um fluído em repouso dentro\" . A posição neste tubo é dada por uma coordenada $x$. Uma gotinha de tinta azul, com 1 kilo é colocada na posição $0$. As partícula desta gota começam a se mexer sobre pressão osmótica e se espalham ao longo do tubo. O problema é saber qual é a densidade de tinta no tempo $t$, denotado por $u(t,x)$."
   ]
  },
  {
   "cell_type": "markdown",
   "metadata": {
    "slideshow": {
     "slide_type": "subslide"
    }
   },
   "source": [
    "### As equações:\n"
   ]
  }
 ],
 "metadata": {
  "celltoolbar": "Slideshow",
  "kernelspec": {
   "display_name": "Python 3",
   "language": "python",
   "name": "python3"
  },
  "language_info": {
   "codemirror_mode": {
    "name": "ipython",
    "version": 3
   },
   "file_extension": ".py",
   "mimetype": "text/x-python",
   "name": "python",
   "nbconvert_exporter": "python",
   "pygments_lexer": "ipython3",
   "version": "3.4.3"
  }
 },
 "nbformat": 4,
 "nbformat_minor": 0
}
