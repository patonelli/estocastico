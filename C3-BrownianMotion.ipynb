{
 "cells": [
  {
   "cell_type": "markdown",
   "metadata": {
    "slideshow": {
     "slide_type": "slide"
    }
   },
   "source": [
    "# Movimento Browniano\n",
    "\n",
    "## Einstein 1905.\n",
    "O objetivo de Einstein foi estudar o movimento de uma partícula num fluído em repouso.\n",
    "[Veja os trabalhos de Einstein sobre o movimento Browniano](http://einsteinpapers.press.princeton.edu/vol2-doc/242).\n",
    "\n",
    "Vamos apenas descrever, de maneira eurística, quais foram os passos matemáticos neste primeiro trabalho de Einstein sobre MB, e como ele chegou à fórmula da distribuição  do movimento Browniano.\n",
    "\n",
    "Considera um \"tubo super-fino e infinito com um fluído em repouso dentro\" . A posição neste tubo é dada por uma coordenada $x$. Uma gotinha de tinta azul, com 1 kilo é colocada na posição $0$. As partícula desta gota começam a se mexer sobre pressão osmótica e se espalham ao longo do tubo. O problema é saber qual é a densidade de tinta no tempo $t$, denotado por $u(t,x)$."
   ]
  },
  {
   "cell_type": "markdown",
   "metadata": {
    "slideshow": {
     "slide_type": "subslide"
    }
   },
   "source": [
    "### As equações:\n",
    "No instante inicial teríamos\n",
    "$$ u(0,x) = \\delta_0$$\n",
    "E a distribuição de probabilidade de uma partícula passar de de $x$ a $x+y$ em tempo $\\tau$ é $f(y,\\tau)$. (não depende de $x$). Então:\n",
    "$$ u(t+\\tau,x) = \\int_{-\\infty}^{\\infty}u(t,x-y)f(x,\\tau)dy = $$\n",
    "$$\\int_{-\\infty}^{\\infty}(u(t,x)-u_x(t,x)y +\\frac{1}{2}u_{xx}y^2 + O(y^3)) dy$$\n"
   ]
  },
  {
   "cell_type": "markdown",
   "metadata": {
    "slideshow": {
     "slide_type": "subslide"
    }
   },
   "source": [
    "Usando o seguinte \n",
    "\n",
    "* $\\int f(y,\\tau) dy = 1$\n",
    "* $f(-y,\\tau) = f(y,\\tau)$ Hipótese de simetria e\n",
    "* $\\int_{-\\infty}^\\infty y^2f(y,\\tau)dy = D\\tau$ Hipótese\n",
    "\n",
    "Obtemos a equação diferencial de $u(t,x)$ como\n",
    "$$ u_t = \\frac{D}{2}u_{xx} $$\n",
    "Equação do calor cuja solução, com a condição inicial dada é:\n",
    "$$ u(t,x)=\\frac{1}{\\sqrt{2\\pi Dt}}\\text{e}^{-\\frac{x^2}{2Dt}}$$"
   ]
  },
  {
   "cell_type": "markdown",
   "metadata": {
    "slideshow": {
     "slide_type": "slide"
    }
   },
   "source": [
    "## Movimento Browniano e Passeio Aleatório\n",
    "\n",
    "Podemos obter o mesmo processo usando um passeio aleatório em $\\mathbb{R}$. Sejam $\\Delta x> 0$ e $\\Delta t > 0$ e consideramos o reticulado $\\{(mx,nt): m\\in \\mathbb{Z}, n\\in \\mathbb{N}\\}$. Uma partícula começa a se movimentar a partir de $x=0$ no instante $t=0$ realizando sorteios, ou seja:\n",
    "Se $$ S_n = \\sum_{i=1}^n \\xi_i $$ é um processo de Bernoulli com $ P(\\xi_i=0)=0.5 $ e $P(\\xi_i=1) = 0.5$ com $\\xi_i$ independentes, defino\n",
    "$$ X_{n\\Delta t}= S_n\\Delta x + (n-S_n) -\\Delta x =(2S_n-n)\\Delta x $$\n",
    "que representa a posição da partícula no instante $t= n\\Delta t$.\n",
    "Esta fórmula pode se reescrever como:\n",
    "$$ X_t = \\left(\\frac{S_n - \\frac{n}{2}}{\\sqrt{(\\frac{n}{4})}}\\right)\\sqrt{n}\\Delta x =\\left(\\frac{S_n - \\frac{n}{2}}{\\sqrt{(\\frac{n}{4})}}\\right)\\sqrt{tD}$$\n",
    "\n",
    "\n"
   ]
  },
  {
   "cell_type": "markdown",
   "metadata": {
    "slideshow": {
     "slide_type": "subslide"
    }
   },
   "source": [
    "Usando o teorema de Laplace-Moivre temos\n",
    "$$ \\lim_{n\\to \\infty} P\\left( \\frac{a}{\\sqrt{tD}} \\le \\frac{S_n - \\frac{n}{2}}{\\sqrt{(\\frac{n}{4})}} \\le \\frac{b}{\\sqrt{tD}}\\right) = \\frac{1}{\\sqrt{2\\pi Dt}}\\int_a^b \\text{e}^{-\\frac{x^2}{2Dt}}dx$$"
   ]
  },
  {
   "cell_type": "markdown",
   "metadata": {
    "slideshow": {
     "slide_type": "slide"
    }
   },
   "source": [
    "## A definição de Wiener e propriedades"
   ]
  },
  {
   "cell_type": "code",
   "execution_count": null,
   "metadata": {
    "collapsed": true
   },
   "outputs": [],
   "source": []
  }
 ],
 "metadata": {
  "celltoolbar": "Slideshow",
  "kernelspec": {
   "display_name": "Python 3",
   "language": "python",
   "name": "python3"
  },
  "language_info": {
   "codemirror_mode": {
    "name": "ipython",
    "version": 3
   },
   "file_extension": ".py",
   "mimetype": "text/x-python",
   "name": "python",
   "nbconvert_exporter": "python",
   "pygments_lexer": "ipython3",
   "version": "3.4.3"
  }
 },
 "nbformat": 4,
 "nbformat_minor": 0
}
